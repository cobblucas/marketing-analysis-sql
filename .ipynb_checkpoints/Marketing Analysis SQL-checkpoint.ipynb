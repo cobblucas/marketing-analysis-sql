{
 "cells": [
  {
   "cell_type": "markdown",
   "id": "4689018f",
   "metadata": {},
   "source": [
    "### Initial Import"
   ]
  },
  {
   "cell_type": "code",
   "execution_count": 1,
   "id": "04a2c7bc",
   "metadata": {},
   "outputs": [
    {
     "name": "stdout",
     "output_type": "stream",
     "text": [
      "Collecting ipython-sql\n",
      "  Downloading ipython_sql-0.5.0-py3-none-any.whl (20 kB)\n",
      "Collecting prettytable (from ipython-sql)\n",
      "  Obtaining dependency information for prettytable from https://files.pythonhosted.org/packages/4d/81/316b6a55a0d1f327d04cc7b0ba9d04058cb62de6c3a4d4b0df280cbe3b0b/prettytable-3.9.0-py3-none-any.whl.metadata\n",
      "  Downloading prettytable-3.9.0-py3-none-any.whl.metadata (26 kB)\n",
      "Requirement already satisfied: ipython in c:\\users\\lucas\\anaconda3\\lib\\site-packages (from ipython-sql) (8.15.0)\n",
      "Collecting sqlalchemy>=2.0 (from ipython-sql)\n",
      "  Obtaining dependency information for sqlalchemy>=2.0 from https://files.pythonhosted.org/packages/67/e7/7c77fd5290646f929b499992607cf1bc940573098a593080fcc8f7e13a08/SQLAlchemy-2.0.23-cp311-cp311-win_amd64.whl.metadata\n",
      "  Downloading SQLAlchemy-2.0.23-cp311-cp311-win_amd64.whl.metadata (9.8 kB)\n",
      "Collecting sqlparse (from ipython-sql)\n",
      "  Downloading sqlparse-0.4.4-py3-none-any.whl (41 kB)\n",
      "     ---------------------------------------- 0.0/41.2 kB ? eta -:--:--\n",
      "     ---------------------------------------- 41.2/41.2 kB ? eta 0:00:00\n",
      "Requirement already satisfied: six in c:\\users\\lucas\\anaconda3\\lib\\site-packages (from ipython-sql) (1.16.0)\n",
      "Requirement already satisfied: ipython-genutils in c:\\users\\lucas\\anaconda3\\lib\\site-packages (from ipython-sql) (0.2.0)\n",
      "Requirement already satisfied: typing-extensions>=4.2.0 in c:\\users\\lucas\\anaconda3\\lib\\site-packages (from sqlalchemy>=2.0->ipython-sql) (4.7.1)\n",
      "Requirement already satisfied: greenlet!=0.4.17 in c:\\users\\lucas\\anaconda3\\lib\\site-packages (from sqlalchemy>=2.0->ipython-sql) (2.0.1)\n",
      "Requirement already satisfied: backcall in c:\\users\\lucas\\anaconda3\\lib\\site-packages (from ipython->ipython-sql) (0.2.0)\n",
      "Requirement already satisfied: decorator in c:\\users\\lucas\\anaconda3\\lib\\site-packages (from ipython->ipython-sql) (5.1.1)\n",
      "Requirement already satisfied: jedi>=0.16 in c:\\users\\lucas\\anaconda3\\lib\\site-packages (from ipython->ipython-sql) (0.18.1)\n",
      "Requirement already satisfied: matplotlib-inline in c:\\users\\lucas\\anaconda3\\lib\\site-packages (from ipython->ipython-sql) (0.1.6)\n",
      "Requirement already satisfied: pickleshare in c:\\users\\lucas\\anaconda3\\lib\\site-packages (from ipython->ipython-sql) (0.7.5)\n",
      "Requirement already satisfied: prompt-toolkit!=3.0.37,<3.1.0,>=3.0.30 in c:\\users\\lucas\\anaconda3\\lib\\site-packages (from ipython->ipython-sql) (3.0.36)\n",
      "Requirement already satisfied: pygments>=2.4.0 in c:\\users\\lucas\\anaconda3\\lib\\site-packages (from ipython->ipython-sql) (2.15.1)\n",
      "Requirement already satisfied: stack-data in c:\\users\\lucas\\anaconda3\\lib\\site-packages (from ipython->ipython-sql) (0.2.0)\n",
      "Requirement already satisfied: traitlets>=5 in c:\\users\\lucas\\anaconda3\\lib\\site-packages (from ipython->ipython-sql) (5.7.1)\n",
      "Requirement already satisfied: colorama in c:\\users\\lucas\\anaconda3\\lib\\site-packages (from ipython->ipython-sql) (0.4.6)\n",
      "Requirement already satisfied: wcwidth in c:\\users\\lucas\\anaconda3\\lib\\site-packages (from prettytable->ipython-sql) (0.2.5)\n",
      "Requirement already satisfied: parso<0.9.0,>=0.8.0 in c:\\users\\lucas\\anaconda3\\lib\\site-packages (from jedi>=0.16->ipython->ipython-sql) (0.8.3)\n",
      "Requirement already satisfied: executing in c:\\users\\lucas\\anaconda3\\lib\\site-packages (from stack-data->ipython->ipython-sql) (0.8.3)\n",
      "Requirement already satisfied: asttokens in c:\\users\\lucas\\anaconda3\\lib\\site-packages (from stack-data->ipython->ipython-sql) (2.0.5)\n",
      "Requirement already satisfied: pure-eval in c:\\users\\lucas\\anaconda3\\lib\\site-packages (from stack-data->ipython->ipython-sql) (0.2.2)\n",
      "Downloading SQLAlchemy-2.0.23-cp311-cp311-win_amd64.whl (2.1 MB)\n",
      "   ---------------------------------------- 0.0/2.1 MB ? eta -:--:--\n",
      "   ------------- -------------------------- 0.7/2.1 MB 14.8 MB/s eta 0:00:01\n",
      "   -------------------------------- ------- 1.7/2.1 MB 17.9 MB/s eta 0:00:01\n",
      "   ---------------------------------------- 2.1/2.1 MB 16.4 MB/s eta 0:00:00\n",
      "Downloading prettytable-3.9.0-py3-none-any.whl (27 kB)\n",
      "Installing collected packages: sqlparse, sqlalchemy, prettytable, ipython-sql\n",
      "  Attempting uninstall: sqlalchemy\n",
      "    Found existing installation: SQLAlchemy 1.4.39\n",
      "    Uninstalling SQLAlchemy-1.4.39:\n",
      "      Successfully uninstalled SQLAlchemy-1.4.39\n",
      "Successfully installed ipython-sql-0.5.0 prettytable-3.9.0 sqlalchemy-2.0.23 sqlparse-0.4.4\n",
      "Note: you may need to restart the kernel to use updated packages.\n"
     ]
    }
   ],
   "source": [
    "pip install ipython-sql"
   ]
  },
  {
   "cell_type": "code",
   "execution_count": 2,
   "id": "b75d5f39",
   "metadata": {},
   "outputs": [
    {
     "name": "stdout",
     "output_type": "stream",
     "text": [
      "Collecting mysqlclientNote: you may need to restart the kernel to use updated packages.\n",
      "\n",
      "  Obtaining dependency information for mysqlclient from https://files.pythonhosted.org/packages/6d/48/571d99aa4634719c92d516c7bada1091ab85cebbd02fcf83f34b19f04c87/mysqlclient-2.2.0-cp311-cp311-win_amd64.whl.metadata\n",
      "  Downloading mysqlclient-2.2.0-cp311-cp311-win_amd64.whl.metadata (4.5 kB)\n",
      "Downloading mysqlclient-2.2.0-cp311-cp311-win_amd64.whl (199 kB)\n",
      "   ---------------------------------------- 0.0/200.0 kB ? eta -:--:--\n",
      "   ----- --------------------------------- 30.7/200.0 kB 660.6 kB/s eta 0:00:01\n",
      "   ---------------------------------------- 200.0/200.0 kB 3.0 MB/s eta 0:00:00\n",
      "Installing collected packages: mysqlclient\n",
      "Successfully installed mysqlclient-2.2.0\n"
     ]
    }
   ],
   "source": [
    "pip install mysqlclient"
   ]
  },
  {
   "cell_type": "code",
   "execution_count": 3,
   "id": "9ffbc244",
   "metadata": {},
   "outputs": [
    {
     "name": "stdout",
     "output_type": "stream",
     "text": [
      "Requirement already satisfied: ipython-sql in c:\\users\\lucas\\anaconda3\\lib\\site-packages (0.5.0)\n",
      "Collecting mysql-connector-python\n",
      "  Obtaining dependency information for mysql-connector-python from https://files.pythonhosted.org/packages/a7/84/b63f11124f808b6f1e3389072bc36cc907929d7574e85f94bf8f18117fe4/mysql_connector_python-8.2.0-cp311-cp311-win_amd64.whl.metadata\n",
      "  Downloading mysql_connector_python-8.2.0-cp311-cp311-win_amd64.whl.metadata (2.1 kB)\n",
      "Requirement already satisfied: prettytable in c:\\users\\lucas\\anaconda3\\lib\\site-packages (from ipython-sql) (3.9.0)\n",
      "Requirement already satisfied: ipython in c:\\users\\lucas\\anaconda3\\lib\\site-packages (from ipython-sql) (8.15.0)\n",
      "Requirement already satisfied: sqlalchemy>=2.0 in c:\\users\\lucas\\anaconda3\\lib\\site-packages (from ipython-sql) (2.0.23)\n",
      "Requirement already satisfied: sqlparse in c:\\users\\lucas\\anaconda3\\lib\\site-packages (from ipython-sql) (0.4.4)\n",
      "Requirement already satisfied: six in c:\\users\\lucas\\anaconda3\\lib\\site-packages (from ipython-sql) (1.16.0)\n",
      "Requirement already satisfied: ipython-genutils in c:\\users\\lucas\\anaconda3\\lib\\site-packages (from ipython-sql) (0.2.0)\n",
      "Collecting protobuf<=4.21.12,>=4.21.1 (from mysql-connector-python)\n",
      "  Downloading protobuf-4.21.12-cp310-abi3-win_amd64.whl (527 kB)\n",
      "     ---------------------------------------- 0.0/527.0 kB ? eta -:--:--\n",
      "     -- ------------------------------------ 30.7/527.0 kB 1.3 MB/s eta 0:00:01\n",
      "     -------------------------------------- 527.0/527.0 kB 6.6 MB/s eta 0:00:00\n",
      "Requirement already satisfied: typing-extensions>=4.2.0 in c:\\users\\lucas\\anaconda3\\lib\\site-packages (from sqlalchemy>=2.0->ipython-sql) (4.7.1)\n",
      "Requirement already satisfied: greenlet!=0.4.17 in c:\\users\\lucas\\anaconda3\\lib\\site-packages (from sqlalchemy>=2.0->ipython-sql) (2.0.1)\n",
      "Requirement already satisfied: backcall in c:\\users\\lucas\\anaconda3\\lib\\site-packages (from ipython->ipython-sql) (0.2.0)\n",
      "Requirement already satisfied: decorator in c:\\users\\lucas\\anaconda3\\lib\\site-packages (from ipython->ipython-sql) (5.1.1)\n",
      "Requirement already satisfied: jedi>=0.16 in c:\\users\\lucas\\anaconda3\\lib\\site-packages (from ipython->ipython-sql) (0.18.1)\n",
      "Requirement already satisfied: matplotlib-inline in c:\\users\\lucas\\anaconda3\\lib\\site-packages (from ipython->ipython-sql) (0.1.6)\n",
      "Requirement already satisfied: pickleshare in c:\\users\\lucas\\anaconda3\\lib\\site-packages (from ipython->ipython-sql) (0.7.5)\n",
      "Requirement already satisfied: prompt-toolkit!=3.0.37,<3.1.0,>=3.0.30 in c:\\users\\lucas\\anaconda3\\lib\\site-packages (from ipython->ipython-sql) (3.0.36)\n",
      "Requirement already satisfied: pygments>=2.4.0 in c:\\users\\lucas\\anaconda3\\lib\\site-packages (from ipython->ipython-sql) (2.15.1)\n",
      "Requirement already satisfied: stack-data in c:\\users\\lucas\\anaconda3\\lib\\site-packages (from ipython->ipython-sql) (0.2.0)\n",
      "Requirement already satisfied: traitlets>=5 in c:\\users\\lucas\\anaconda3\\lib\\site-packages (from ipython->ipython-sql) (5.7.1)\n",
      "Requirement already satisfied: colorama in c:\\users\\lucas\\anaconda3\\lib\\site-packages (from ipython->ipython-sql) (0.4.6)\n",
      "Requirement already satisfied: wcwidth in c:\\users\\lucas\\anaconda3\\lib\\site-packages (from prettytable->ipython-sql) (0.2.5)\n",
      "Requirement already satisfied: parso<0.9.0,>=0.8.0 in c:\\users\\lucas\\anaconda3\\lib\\site-packages (from jedi>=0.16->ipython->ipython-sql) (0.8.3)\n",
      "Requirement already satisfied: executing in c:\\users\\lucas\\anaconda3\\lib\\site-packages (from stack-data->ipython->ipython-sql) (0.8.3)\n",
      "Requirement already satisfied: asttokens in c:\\users\\lucas\\anaconda3\\lib\\site-packages (from stack-data->ipython->ipython-sql) (2.0.5)\n",
      "Requirement already satisfied: pure-eval in c:\\users\\lucas\\anaconda3\\lib\\site-packages (from stack-data->ipython->ipython-sql) (0.2.2)\n",
      "Downloading mysql_connector_python-8.2.0-cp311-cp311-win_amd64.whl (14.2 MB)\n",
      "   ---------------------------------------- 0.0/14.2 MB ? eta -:--:--\n",
      "   -- ------------------------------------- 1.1/14.2 MB 34.0 MB/s eta 0:00:01\n",
      "   ----- ---------------------------------- 2.1/14.2 MB 26.7 MB/s eta 0:00:01\n",
      "   --------- ------------------------------ 3.3/14.2 MB 26.1 MB/s eta 0:00:01\n",
      "   ------------ --------------------------- 4.6/14.2 MB 26.6 MB/s eta 0:00:01\n",
      "   ---------------- ----------------------- 5.9/14.2 MB 27.1 MB/s eta 0:00:01\n",
      "   -------------------- ------------------- 7.2/14.2 MB 27.2 MB/s eta 0:00:01\n",
      "   ------------------------ --------------- 8.5/14.2 MB 27.3 MB/s eta 0:00:01\n",
      "   ---------------------------- ----------- 10.0/14.2 MB 27.7 MB/s eta 0:00:01\n",
      "   ------------------------------- -------- 11.1/14.2 MB 26.2 MB/s eta 0:00:01\n",
      "   ----------------------------------- ---- 12.6/14.2 MB 27.3 MB/s eta 0:00:01\n",
      "   -------------------------------------- - 13.8/14.2 MB 27.3 MB/s eta 0:00:01\n",
      "   ---------------------------------------  14.2/14.2 MB 27.3 MB/s eta 0:00:01\n",
      "   ---------------------------------------- 14.2/14.2 MB 25.2 MB/s eta 0:00:00\n",
      "Installing collected packages: protobuf, mysql-connector-python\n",
      "Successfully installed mysql-connector-python-8.2.0 protobuf-4.21.12\n",
      "Note: you may need to restart the kernel to use updated packages.\n"
     ]
    }
   ],
   "source": [
    "pip install ipython-sql mysql-connector-python"
   ]
  },
  {
   "cell_type": "code",
   "execution_count": 4,
   "id": "1b7d13d2",
   "metadata": {},
   "outputs": [],
   "source": [
    "%reload_ext sql"
   ]
  },
  {
   "cell_type": "code",
   "execution_count": 16,
   "id": "2a9db857",
   "metadata": {},
   "outputs": [
    {
     "name": "stdout",
     "output_type": "stream",
     "text": [
      "Note: you may need to restart the kernel to use updated packages.\n"
     ]
    }
   ],
   "source": [
    "%pip install mysqlclient --quiet"
   ]
  },
  {
   "cell_type": "code",
   "execution_count": 17,
   "id": "3c30bd5c",
   "metadata": {},
   "outputs": [],
   "source": [
    "%reload_ext sql"
   ]
  },
  {
   "cell_type": "code",
   "execution_count": 20,
   "id": "a8cfc75c",
   "metadata": {},
   "outputs": [
    {
     "name": "stdout",
     "output_type": "stream",
     "text": [
      "Collecting psycopg2-binary\n",
      "  Obtaining dependency information for psycopg2-binary from https://files.pythonhosted.org/packages/25/1f/7ae31759142999a8d06b3e250c1346c4abcdcada8fa884376775dc1de686/psycopg2_binary-2.9.9-cp311-cp311-win_amd64.whl.metadata\n",
      "  Downloading psycopg2_binary-2.9.9-cp311-cp311-win_amd64.whl.metadata (4.6 kB)\n",
      "Downloading psycopg2_binary-2.9.9-cp311-cp311-win_amd64.whl (1.2 MB)\n",
      "   ---------------------------------------- 0.0/1.2 MB ? eta -:--:--\n",
      "   - -------------------------------------- 0.0/1.2 MB 1.4 MB/s eta 0:00:01\n",
      "   -------- ------------------------------- 0.2/1.2 MB 2.9 MB/s eta 0:00:01\n",
      "   --------------------------- ------------ 0.8/1.2 MB 7.2 MB/s eta 0:00:01\n",
      "   ---------------------------------------- 1.2/1.2 MB 8.2 MB/s eta 0:00:00\n",
      "Installing collected packages: psycopg2-binary\n",
      "Successfully installed psycopg2-binary-2.9.9\n",
      "Note: you may need to restart the kernel to use updated packages.\n"
     ]
    }
   ],
   "source": [
    "pip install psycopg2-binary"
   ]
  },
  {
   "cell_type": "code",
   "execution_count": 22,
   "id": "b3e83719",
   "metadata": {},
   "outputs": [
    {
     "ename": "KeyError",
     "evalue": "'localhost'",
     "output_type": "error",
     "traceback": [
      "\u001b[1;31m---------------------------------------------------------------------------\u001b[0m",
      "\u001b[1;31mKeyError\u001b[0m                                  Traceback (most recent call last)",
      "Cell \u001b[1;32mIn[22], line 5\u001b[0m\n\u001b[0;32m      2\u001b[0m \u001b[38;5;28;01mimport\u001b[39;00m \u001b[38;5;21;01mpsycopg2\u001b[39;00m \u001b[38;5;28;01mas\u001b[39;00m \u001b[38;5;21;01mps\u001b[39;00m\n\u001b[0;32m      3\u001b[0m \u001b[38;5;28;01mimport\u001b[39;00m \u001b[38;5;21;01mpandas\u001b[39;00m \u001b[38;5;28;01mas\u001b[39;00m \u001b[38;5;21;01mpd\u001b[39;00m\n\u001b[0;32m      4\u001b[0m conn \u001b[38;5;241m=\u001b[39m ps\u001b[38;5;241m.\u001b[39mconnect(\n\u001b[1;32m----> 5\u001b[0m     host\u001b[38;5;241m=\u001b[39mos\u001b[38;5;241m.\u001b[39menviron[\u001b[38;5;124m\"\u001b[39m\u001b[38;5;124mlocalhost\u001b[39m\u001b[38;5;124m\"\u001b[39m],\n\u001b[0;32m      6\u001b[0m     port\u001b[38;5;241m=\u001b[39mos\u001b[38;5;241m.\u001b[39menviron[\u001b[38;5;124m\"\u001b[39m\u001b[38;5;124m3306\u001b[39m\u001b[38;5;124m\"\u001b[39m],\n\u001b[0;32m      7\u001b[0m     dbname\u001b[38;5;241m=\u001b[39mos\u001b[38;5;241m.\u001b[39menviron[\u001b[38;5;124m\"\u001b[39m\u001b[38;5;124msustainable_clothingDB\u001b[39m\u001b[38;5;124m\"\u001b[39m],\n\u001b[0;32m      8\u001b[0m     user\u001b[38;5;241m=\u001b[39mos\u001b[38;5;241m.\u001b[39menviron[\u001b[38;5;124m\"\u001b[39m\u001b[38;5;124mroot\u001b[39m\u001b[38;5;124m\"\u001b[39m],\n\u001b[0;32m      9\u001b[0m     password\u001b[38;5;241m=\u001b[39mos\u001b[38;5;241m.\u001b[39menviron[\u001b[38;5;124m\"\u001b[39m\u001b[38;5;124mroot\u001b[39m\u001b[38;5;124m\"\u001b[39m])\n",
      "File \u001b[1;32m<frozen os>:679\u001b[0m, in \u001b[0;36m__getitem__\u001b[1;34m(self, key)\u001b[0m\n",
      "\u001b[1;31mKeyError\u001b[0m: 'localhost'"
     ]
    }
   ],
   "source": [
    "import os\n",
    "import psycopg2 as ps\n",
    "import pandas as pd\n",
    "conn = ps.connect(\n",
    "    host=os.environ[\"localhost\"],\n",
    "    port=os.environ[\"3306\"],\n",
    "    dbname=os.environ[\"sustainable_clothingDB\"],\n",
    "    user=os.environ[\"root\"],\n",
    "    password=os.environ[\"root\"])"
   ]
  },
  {
   "cell_type": "code",
   "execution_count": 23,
   "id": "3456b6e5",
   "metadata": {},
   "outputs": [
    {
     "name": "stdout",
     "output_type": "stream",
     "text": [
      "Requirement already satisfied: pyodbc in c:\\users\\lucas\\anaconda3\\lib\\site-packages (4.0.34)\n",
      "Note: you may need to restart the kernel to use updated packages.\n"
     ]
    }
   ],
   "source": [
    "pip install pyodbc"
   ]
  },
  {
   "cell_type": "code",
   "execution_count": null,
   "id": "d3b026bd",
   "metadata": {},
   "outputs": [],
   "source": []
  }
 ],
 "metadata": {
  "kernelspec": {
   "display_name": "Python 3 (ipykernel)",
   "language": "python",
   "name": "python3"
  },
  "language_info": {
   "codemirror_mode": {
    "name": "ipython",
    "version": 3
   },
   "file_extension": ".py",
   "mimetype": "text/x-python",
   "name": "python",
   "nbconvert_exporter": "python",
   "pygments_lexer": "ipython3",
   "version": "3.11.5"
  }
 },
 "nbformat": 4,
 "nbformat_minor": 5
}
