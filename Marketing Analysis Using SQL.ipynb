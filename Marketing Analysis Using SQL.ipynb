{
 "cells": [
  {
   "cell_type": "code",
   "execution_count": 1,
   "id": "cf30201d",
   "metadata": {},
   "outputs": [],
   "source": [
    "import pandas as pd\n",
    "import numpy as np\n",
    "import sqlite3 as sql"
   ]
  },
  {
   "cell_type": "code",
   "execution_count": 2,
   "id": "73bb0258",
   "metadata": {},
   "outputs": [],
   "source": [
    "#create connection to database file\n",
    "database = \"marketing-analysis-using-sql.db\"\n",
    "connection = sql.connect(database)"
   ]
  },
  {
   "cell_type": "code",
   "execution_count": 12,
   "id": "232be0c4",
   "metadata": {},
   "outputs": [
    {
     "data": {
      "text/plain": [
       "<bound method NDFrame.head of    campaign_id          campaign_name  product_id  start_date    end_date\n",
       "0            1            Summer Sale           2  2023-06-01  2023-06-30\n",
       "1            2  New Collection Launch          10  2023-07-15  2023-08-15\n",
       "2            3             Super Save           7  2023-08-20  2023-09-15>"
      ]
     },
     "execution_count": 12,
     "metadata": {},
     "output_type": "execute_result"
    }
   ],
   "source": [
    "query = '''Select * FROM marketing_campaigns'''\n",
    "\n",
    "df = pd.read_sql_query(query, connection)\n",
    "df.head"
   ]
  },
  {
   "cell_type": "code",
   "execution_count": 9,
   "id": "19649aa7",
   "metadata": {},
   "outputs": [
    {
     "data": {
      "text/plain": [
       "<bound method NDFrame.head of     product_id               product_name     category      size  price\n",
       "0            1     Organic Cotton T-Shirt         Tops         S  29.99\n",
       "1            2       Recycled Denim Jeans      Bottoms         M  79.99\n",
       "2            3              Hemp Crop Top         Tops         L  24.99\n",
       "3            4        Bamboo Lounge Pants      Bottoms        XS  49.99\n",
       "4            5        Eco-Friendly Hoodie    Outerwear        XL  59.99\n",
       "5            6    Linen Button-Down Shirt         Tops         M  39.99\n",
       "6            7       Organic Cotton Dress      Dresses         S  69.99\n",
       "7            8    Sustainable Swim Shorts     Swimwear         L  34.99\n",
       "8            9  Recycled Polyester Jacket    Outerwear        XL  89.99\n",
       "9           10       Bamboo Yoga Leggings   Activewear        XS  54.99\n",
       "10          11              Hemp Overalls      Bottoms         M  74.99\n",
       "11          12     Organic Cotton Sweater         Tops         L  49.99\n",
       "12          13               Cork Sandals     Footwear         S  39.99\n",
       "13          14    Recycled Nylon Backpack  Accessories  One Size  59.99\n",
       "14          15       Organic Cotton Skirt      Bottoms        XS  34.99\n",
       "15          16          Hemp Baseball Cap  Accessories  One Size  24.99\n",
       "16          17      Upcycled Denim Jacket    Outerwear         M  79.99\n",
       "17          18             Linen Jumpsuit      Dresses         L  69.99\n",
       "18          19       Organic Cotton Socks  Accessories         M   9.99\n",
       "19          20            Bamboo Bathrobe   Loungewear        XL  69.99>"
      ]
     },
     "execution_count": 9,
     "metadata": {},
     "output_type": "execute_result"
    }
   ],
   "source": [
    "query = '''Select * FROM sustainable_clothing'''\n",
    "\n",
    "df = pd.read_sql_query(query, connection)\n",
    "df.head"
   ]
  },
  {
   "cell_type": "code",
   "execution_count": 11,
   "id": "e4ca6805",
   "metadata": {},
   "outputs": [
    {
     "data": {
      "text/plain": [
       "<bound method NDFrame.head of     transaction_id  product_id  quantity purchase_date\n",
       "0                1           2         2    2023-06-02\n",
       "1                2          14         1    2023-06-02\n",
       "2                3           5         2    2023-06-05\n",
       "3                4           2         1    2023-06-07\n",
       "4                5          19         2    2023-06-10\n",
       "..             ...         ...       ...           ...\n",
       "59              60          13         1    2023-10-13\n",
       "60              61          10         2    2023-10-13\n",
       "61              62           9         1    2023-10-13\n",
       "62              63          19         2    2023-10-13\n",
       "63              64          20         1    2023-10-14\n",
       "\n",
       "[64 rows x 4 columns]>"
      ]
     },
     "execution_count": 11,
     "metadata": {},
     "output_type": "execute_result"
    }
   ],
   "source": [
    "query = '''Select * FROM transactions'''\n",
    "\n",
    "df = pd.read_sql_query(query, connection)\n",
    "df.head"
   ]
  },
  {
   "cell_type": "code",
   "execution_count": 13,
   "id": "ad3f2c4b",
   "metadata": {},
   "outputs": [
    {
     "data": {
      "text/plain": [
       "<bound method NDFrame.head of            campaign_name  Transactions\n",
       "0  New Collection Launch             9\n",
       "1            Summer Sale            13\n",
       "2             Super Save             8>"
      ]
     },
     "execution_count": 13,
     "metadata": {},
     "output_type": "execute_result"
    }
   ],
   "source": [
    "# 1. How many transactions were completed during each marketing campaign\n",
    "\n",
    "query='''SELECT campaign_name,count(transaction_id) as Transactions\n",
    "FROM transactions\n",
    "JOIN marketing_campaigns\n",
    "ON purchase_date\n",
    "WHERE purchase_date BETWEEN start_date and end_date\n",
    "GROUP BY campaign_name;'''\n",
    "\n",
    "df = pd.read_sql_query(query, connection)\n",
    "df.head"
   ]
  },
  {
   "cell_type": "code",
   "execution_count": 14,
   "id": "3e038994",
   "metadata": {},
   "outputs": [
    {
     "data": {
      "text/plain": [
       "<bound method NDFrame.head of              product_name  Sales_quantity\n",
       "0  Organic Cotton Sweater               9>"
      ]
     },
     "execution_count": 14,
     "metadata": {},
     "output_type": "execute_result"
    }
   ],
   "source": [
    "# 2. Which product had the highest sales quantity?\n",
    "\n",
    "query='''SELECT product_name , sum(quantity) as Sales_quantity\n",
    "FROM sustainable_clothing\n",
    "JOIN transactions\n",
    "USING (product_id)\n",
    "GROUP BY product_name\n",
    "ORDER BY Sales_quantity DESC\n",
    "LIMIT 1;'''\n",
    "\n",
    "df = pd.read_sql_query(query, connection)\n",
    "df.head"
   ]
  },
  {
   "cell_type": "code",
   "execution_count": 15,
   "id": "e3291cd7",
   "metadata": {},
   "outputs": [
    {
     "data": {
      "text/plain": [
       "<bound method NDFrame.head of            campaign_name  Total_Revenue\n",
       "0  New Collection Launch         499.89\n",
       "1            Summer Sale        1044.82\n",
       "2             Super Save         529.89>"
      ]
     },
     "execution_count": 15,
     "metadata": {},
     "output_type": "execute_result"
    }
   ],
   "source": [
    "# 3. What is the total revenue generated from each marketing campaign?\n",
    "\n",
    "query='''SELECT campaign_name,round(sum(quantity * price),2) as Total_Revenue\n",
    "FROM transactions as t\n",
    "JOIN marketing_campaigns \n",
    "ON purchase_date\n",
    "BETWEEN start_date and end_date\n",
    "JOIN sustainable_clothing as s \n",
    "ON s.product_id = t.product_id\n",
    "GROUP BY campaign_name;'''\n",
    "\n",
    "df = pd.read_sql_query(query, connection)\n",
    "df.head"
   ]
  },
  {
   "cell_type": "code",
   "execution_count": 16,
   "id": "f33b1296",
   "metadata": {},
   "outputs": [
    {
     "data": {
      "text/plain": [
       "<bound method NDFrame.head of   category  Total_revenue\n",
       "0  Bottoms        1289.79>"
      ]
     },
     "execution_count": 16,
     "metadata": {},
     "output_type": "execute_result"
    }
   ],
   "source": [
    "# 4. What is the top-selling product category based on the total revenue generated?\n",
    "\n",
    "query='''SELECT category,round(sum(price *quantity),2) as Total_revenue\n",
    "FROM transactions as t\n",
    "JOIN sustainable_clothing as s \n",
    "ON s.product_id = t.product_id\n",
    "GROUP BY category\n",
    "ORDER BY Total_revenue DESC\n",
    "LIMIT 1;'''\n",
    "\n",
    "df = pd.read_sql_query(query, connection)\n",
    "df.head"
   ]
  },
  {
   "cell_type": "code",
   "execution_count": 17,
   "id": "70f520ab",
   "metadata": {},
   "outputs": [
    {
     "data": {
      "text/plain": [
       "<bound method NDFrame.head of    product_id            product_name\n",
       "0           2    Recycled Denim Jeans\n",
       "1           4     Bamboo Lounge Pants\n",
       "2           5     Eco-Friendly Hoodie\n",
       "3          10    Bamboo Yoga Leggings\n",
       "4          12  Organic Cotton Sweater\n",
       "5          15    Organic Cotton Skirt\n",
       "6          16       Hemp Baseball Cap\n",
       "7          18          Linen Jumpsuit\n",
       "8          19    Organic Cotton Socks>"
      ]
     },
     "execution_count": 17,
     "metadata": {},
     "output_type": "execute_result"
    }
   ],
   "source": [
    "# 5. Which products had a higher quantity sold compared to the average quantity sold?\n",
    "\n",
    "query='''SELECT s.product_id,product_name FROM sustainable_clothing as s\n",
    "WHERE s.product_id IN (\n",
    "SELECT product_id FROM \n",
    "(SELECT product_id,sum(quantity) as quant\n",
    "FROM transactions as t\n",
    "GROUP BY product_id) as t1\n",
    "WHERE quant \n",
    ">(\n",
    "SELECT AVG(quant)\n",
    "FROM\n",
    "(SELECT sum(quantity) as quant\n",
    "FROM transactions as t\n",
    "GROUP BY product_id)as t2\n",
    ") \n",
    ");'''\n",
    "\n",
    "df = pd.read_sql_query(query, connection)\n",
    "df.head"
   ]
  },
  {
   "cell_type": "code",
   "execution_count": 18,
   "id": "0effc88c",
   "metadata": {},
   "outputs": [
    {
     "data": {
      "text/plain": [
       "<bound method NDFrame.head of    purchase_date  Average_Revenue\n",
       "0     2023-06-02           109.99\n",
       "1     2023-06-05           119.98\n",
       "2     2023-06-07            79.99\n",
       "3     2023-06-10            19.98\n",
       "4     2023-06-13            52.49\n",
       "5     2023-06-15           109.98\n",
       "6     2023-06-18            79.99\n",
       "7     2023-06-22            49.99\n",
       "8     2023-06-26           139.98\n",
       "9     2023-06-30            59.99\n",
       "10    2023-07-16            74.99\n",
       "11    2023-07-20            54.99\n",
       "12    2023-07-24            99.98\n",
       "13    2023-07-29            57.49\n",
       "14    2023-08-03            54.99\n",
       "15    2023-08-08            19.98\n",
       "16    2023-08-14            39.99\n",
       "17    2023-08-20            49.98\n",
       "18    2023-08-27            69.99\n",
       "19    2023-09-01            99.98\n",
       "20    2023-09-05            54.99\n",
       "21    2023-09-10            39.99\n",
       "22    2023-09-14            79.99>"
      ]
     },
     "execution_count": 18,
     "metadata": {},
     "output_type": "execute_result"
    }
   ],
   "source": [
    "# 6. What is the average revenue generated per day during the marketing campaigns?\n",
    "\n",
    "query='''SELECT purchase_date,round(AVG(quantity * price),2) as Average_Revenue\n",
    "FROM transactions as t\n",
    "JOIN marketing_campaigns \n",
    "ON purchase_date\n",
    "BETWEEN start_date and end_date\n",
    "JOIN sustainable_clothing as s \n",
    "ON s.product_id = t.product_id\n",
    "GROUP BY purchase_date;'''\n",
    "\n",
    "df = pd.read_sql_query(query, connection)\n",
    "df.head"
   ]
  },
  {
   "cell_type": "code",
   "execution_count": 19,
   "id": "35992064",
   "metadata": {},
   "outputs": [
    {
     "data": {
      "text/plain": [
       "<bound method NDFrame.head of                  product_name  percentage_contribution\n",
       "0        Recycled Denim Jeans                    13.71\n",
       "1              Linen Jumpsuit                    10.49\n",
       "2      Organic Cotton Sweater                     9.64\n",
       "3        Bamboo Yoga Leggings                     9.42\n",
       "4   Recycled Polyester Jacket                     7.71\n",
       "5         Eco-Friendly Hoodie                     6.42\n",
       "6         Bamboo Lounge Pants                     5.35\n",
       "7       Upcycled Denim Jacket                     5.14\n",
       "8               Hemp Overalls                     4.82\n",
       "9        Organic Cotton Dress                     4.50\n",
       "10       Organic Cotton Skirt                     3.75\n",
       "11               Cork Sandals                     3.43\n",
       "12            Bamboo Bathrobe                     3.00\n",
       "13          Hemp Baseball Cap                     2.68\n",
       "14    Linen Button-Down Shirt                     2.57\n",
       "15    Recycled Nylon Backpack                     2.57\n",
       "16       Organic Cotton Socks                     1.50\n",
       "17    Sustainable Swim Shorts                     1.50\n",
       "18     Organic Cotton T-Shirt                     1.28\n",
       "19              Hemp Crop Top                     0.54>"
      ]
     },
     "execution_count": 19,
     "metadata": {},
     "output_type": "execute_result"
    }
   ],
   "source": [
    "# 7. What is the percentage contribution of each product to the total revenue?\n",
    "\n",
    "query='''with table2 as(\n",
    "With table1 as(\n",
    "SELECT product_name,round(sum(quantity * price),2) as Product_Revenue\n",
    "FROM transactions as t\n",
    "JOIN sustainable_clothing as s \n",
    "ON s.product_id = t.product_id\n",
    "GROUP BY product_name)\n",
    "SELECT *,sum(Product_Revenue) OVER() as Total_Revenue\n",
    "    FROM table1)\n",
    "SELECT product_name, round((Product_Revenue/Total_Revenue) * 100 ,2) as percentage_contribution \n",
    "FROM table2\n",
    "ORDER BY percentage_contribution DESC;'''\n",
    "\n",
    "df = pd.read_sql_query(query, connection)\n",
    "df.head"
   ]
  },
  {
   "cell_type": "code",
   "execution_count": 20,
   "id": "6147807e",
   "metadata": {},
   "outputs": [
    {
     "data": {
      "text/plain": [
       "<bound method NDFrame.head of    Total_sales  AVG_Sales_Marketing_campaigns  outside_Marketing_campaigns\n",
       "0        1.375                       1.333333                     0.041667>"
      ]
     },
     "execution_count": 20,
     "metadata": {},
     "output_type": "execute_result"
    }
   ],
   "source": [
    "# 8. Compare the average quantity sold during marketing campaigns to outside the marketing campaigns\n",
    "\n",
    "query='''With table2 as (SELECT AVG(quantity) as Total_sales \n",
    "                FROM transactions),\n",
    "table1 as(\n",
    "SELECT AVG(quantity) as AVG_Sales_Marketing_campaigns\n",
    "FROM transactions as t\n",
    "JOIN sustainable_clothing as s\n",
    "ON t.product_id = s.product_id\n",
    "JOIN marketing_campaigns as m\n",
    "ON purchase_date \n",
    "BETWEEN start_date and end_date)\n",
    "SELECT *,Total_sales - AVG_Sales_Marketing_campaigns As outside_Marketing_campaigns FROM table2,table1;'''\n",
    "\n",
    "df = pd.read_sql_query(query, connection)\n",
    "df.head"
   ]
  },
  {
   "cell_type": "code",
   "execution_count": 21,
   "id": "db7151e4",
   "metadata": {},
   "outputs": [
    {
     "data": {
      "text/plain": [
       "<bound method NDFrame.head of    Total_sales  Product_Sales_Marketing_campaigns  \\\n",
       "0      4669.12                             2074.6   \n",
       "\n",
       "   Total_sales -Product_Sales_Marketing_campaigns  \n",
       "0                                         2594.52  >"
      ]
     },
     "execution_count": 21,
     "metadata": {},
     "output_type": "execute_result"
    }
   ],
   "source": [
    "# 9. Compare the revenue generated by products inside the marketing campaigns to outside the campaigns\n",
    "\n",
    "query='''With table2 as (SELECT round(SUM(price *quantity),2) as Total_sales \n",
    "                FROM transactions as t2\n",
    "                JOIN sustainable_clothing as s\n",
    "                ON t2.product_id = s.product_id),\n",
    "table1 as(\n",
    "SELECT round(SUM(price *quantity ),2) as Product_Sales_Marketing_campaigns\n",
    "FROM transactions as t3\n",
    "JOIN sustainable_clothing as s\n",
    "ON t3.product_id = s.product_id\n",
    "JOIN marketing_campaigns as m\n",
    "ON purchase_date \n",
    "BETWEEN start_date and end_date)\n",
    "SELECT Total_sales,Product_Sales_Marketing_campaigns,Total_sales -Product_Sales_Marketing_campaigns\n",
    "FROM table2,table1;'''\n",
    "\n",
    "df = pd.read_sql_query(query, connection)\n",
    "df.head"
   ]
  },
  {
   "cell_type": "code",
   "execution_count": 22,
   "id": "cd800bc0",
   "metadata": {},
   "outputs": [
    {
     "data": {
      "text/plain": [
       "<bound method NDFrame.head of                  product_name  AVG_daily  Ranking\n",
       "0   Recycled Polyester Jacket        5.0        1\n",
       "1       Upcycled Denim Jacket        5.0        1\n",
       "2        Organic Cotton Socks        4.0        2\n",
       "3      Organic Cotton T-Shirt        4.0        2\n",
       "4     Sustainable Swim Shorts        4.0        2\n",
       "5        Bamboo Yoga Leggings        3.0        3\n",
       "6                Cork Sandals        3.0        3\n",
       "7           Hemp Baseball Cap        3.0        3\n",
       "8              Linen Jumpsuit        3.0        3\n",
       "9        Organic Cotton Skirt        3.0        3\n",
       "10     Organic Cotton Sweater        3.0        3\n",
       "11    Recycled Nylon Backpack        3.0        3\n",
       "12            Bamboo Bathrobe        2.0        4\n",
       "13        Bamboo Lounge Pants        2.0        4\n",
       "14        Eco-Friendly Hoodie        2.0        4\n",
       "15              Hemp Crop Top        2.0        4\n",
       "16              Hemp Overalls        2.0        4\n",
       "17    Linen Button-Down Shirt        2.0        4\n",
       "18       Recycled Denim Jeans        2.0        4\n",
       "19       Organic Cotton Dress        1.0        5>"
      ]
     },
     "execution_count": 22,
     "metadata": {},
     "output_type": "execute_result"
    }
   ],
   "source": [
    "# 10. Rank the products by their average daily quantity sold\n",
    " \n",
    "query='''with table2 as(\n",
    "With table1 as(\n",
    "SELECT product_name,product_id,sum(quantity) OVER(partition by purchase_date) as daily_qty\n",
    "FROM sustainable_clothing\n",
    "JOIN transactions\n",
    "USING(product_id))\n",
    "SELECT DISTINCT product_name,ROUND(AVG(daily_qty) OVER(partition by product_name)) as AVG_daily \n",
    "    FROM table1)\n",
    "SELECT *,dense_rank() OVER(order by AVG_daily DESC) as Ranking FROM table2;'''\n",
    "\n",
    "df = pd.read_sql_query(query, connection)\n",
    "df.head"
   ]
  }
 ],
 "metadata": {
  "kernelspec": {
   "display_name": "Python 3 (ipykernel)",
   "language": "python",
   "name": "python3"
  },
  "language_info": {
   "codemirror_mode": {
    "name": "ipython",
    "version": 3
   },
   "file_extension": ".py",
   "mimetype": "text/x-python",
   "name": "python",
   "nbconvert_exporter": "python",
   "pygments_lexer": "ipython3",
   "version": "3.11.5"
  }
 },
 "nbformat": 4,
 "nbformat_minor": 5
}
